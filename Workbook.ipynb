{
 "cells": [
  {
   "cell_type": "markdown",
   "metadata": {},
   "source": [
    "# TP"
   ]
  },
  {
   "cell_type": "markdown",
   "metadata": {},
   "source": [
    "## 1. Balacing demand and supply\n",
    "In case the demand is more than supply, then dummy origin is added to the table. The supply of dummy origin will be equal to the difference between the total supply and total demand. The cost associated with the dummy origin will be zero (or other supply/demand-related cost)"
   ]
  },
  {
   "cell_type": "markdown",
   "metadata": {},
   "source": [
    "## 2. Obtaining the initial feasable solution\n",
    "\n",
    "Identifying the solution that satisfies the requirements of demand and supply. "
   ]
  },
  {
   "cell_type": "markdown",
   "metadata": {},
   "source": [
    "### Northwest Corner Rule\n",
    "\n",
    "The North-West Corner Rule is a method adopted to compute the initial feasible solution of the transportation problem. The name North-west corner is given to this method because the basic variables are selected from the extreme left corner. Doesn't consider transportation costs."
   ]
  },
  {
   "cell_type": "markdown",
   "metadata": {},
   "source": [
    "<img src=\"https://www.linearprogramming.info/wp-content/uploads/2015/10/Northwest-Corner-Model-solu.gif\"/>\n",
    "\n",
    "The objective function value:\n",
    "$Z=5*10+10*2+5*7+15*9+5*20+10*18=520$"
   ]
  },
  {
   "cell_type": "markdown",
   "metadata": {},
   "source": [
    "### Least Cost Method\n",
    "\n",
    "The Least Cost Method is another method used to obtain the initial feasible solution for the transportation problem. Here, the allocation begins with the cell which has the minimum cost. The lower cost cells are chosen over the higher-cost cell with the objective to have the least cost of transportation."
   ]
  },
  {
   "cell_type": "markdown",
   "metadata": {},
   "source": [
    "- In which cell we shall allocate? Generally, the cost where maximum quantity can be assigned should be chosen to obtain the better initial solution"
   ]
  },
  {
   "cell_type": "markdown",
   "metadata": {},
   "source": [
    "## 3. Testing the degeneration"
   ]
  },
  {
   "cell_type": "markdown",
   "metadata": {},
   "source": [
    "- If the solution is degenerate, make use of an artificial quantity ($=0$)\n",
    "- The quantity is assigned to unoccupied cell, which has the minimum transportation cost\n",
    "- If quantity is inside of loop and negative (its already $0$ and cannot be reduced further), recalculate using another cell"
   ]
  },
  {
   "cell_type": "markdown",
   "metadata": {},
   "source": [
    "## 4. Testing the optimality of the solution"
   ]
  },
  {
   "cell_type": "markdown",
   "metadata": {},
   "source": [
    "### Stepping Stone Method\n",
    "\n",
    "The Stepping Stone Method is used to check the optimality of the initial feasible solution. Thus, the stepping stone method is a procedure for finding the potential of any non-basic variables (empty cells) in terms of the objective function. Through Stepping stone method, we determine that what effect on the transportation cost would be in case one unit is assigned to the empty cell. With the help of this method, we come to know whether the solution is optimal or not."
   ]
  },
  {
   "cell_type": "markdown",
   "metadata": {},
   "source": [
    "#### Conditions"
   ]
  },
  {
   "cell_type": "markdown",
   "metadata": {},
   "source": [
    "- In a closed loop, cells are selected in a sequence such that one cell is unused/unoccupied, and all other cells are used/occupied\n",
    "- Never go diagonal and you may pass over cells.\n",
    "- Never visit a cell twice."
   ]
  },
  {
   "cell_type": "markdown",
   "metadata": {},
   "source": [
    "#### Steps"
   ]
  },
  {
   "cell_type": "markdown",
   "metadata": {},
   "source": [
    "1. Closed loops are formed starting in an empty cell; go to an allocated cell, then another and another until returning to empty cell\n",
    "2. Look at the giving cells around and shift the minimum to the unallocated cell, while maintaining the feasibility constraints of supply and demand\n",
    "3. Calculate the delta value of the initial and optimized transportation costs\n",
    "4. Repeat for all unoccupied cells and the best cell improvement is chosen for the change. \n",
    "    - Positive quantities mean no improvement (Ddditional costs)\n",
    "5. When all unallocated (non-basic) cells evaluate to positive quantities, the tableau is optimal."
   ]
  },
  {
   "cell_type": "markdown",
   "metadata": {},
   "source": [
    "### Modified Distribution Method (MODI)\n",
    "\n",
    "The Modified Distribution Method or MODI is an efficient method of checking the optimality of the initial feasible solution. Modification of Stepping-Stone Method with same prerequisites."
   ]
  },
  {
   "cell_type": "markdown",
   "metadata": {},
   "source": [
    "#### Steps"
   ]
  },
  {
   "cell_type": "markdown",
   "metadata": {},
   "source": [
    "1. Calculate the values of $u_i$ and $v_j$ by using the equation $u_i+v_j = c_{ij}$\n",
    "    - Introduce the variables $u_i$ (rows) and $v_i$ (columns). Set $u$ to $0$ (Convenient rule is to select the ui, which has the largest number of allocations in its row)\n",
    "    - For each occupied cell calculate $u_i$ and $v_i$ using equation $c_{ij}=u_i+v_i$.\n",
    "2. Next step is to calculate the opportunity costs (or reduced costs) of the unoccupied cells by using the formula $c_{ij}-u_i+v_i$ (which becomes the same value using Stepping Stone)\n",
    "3. Choose the largest opportunity cost and start from there\n",
    "4. Construct a closed path\n",
    "    - Reallocation is done so that every other cell in the loop remains positive\n",
    "    - No diagonal movements allowed\n",
    "    - Maximum two occupied cells from the same row or column can be included in the path\n",
    "    <img src=\"https://businessjargons.com/wp-content/uploads/2015/12/MIDI-Final.jpg\"/>\n",
    "5. To test whether the solution is the most optimal, repeat from 3. until all opportunity costs are positive."
   ]
  },
  {
   "cell_type": "markdown",
   "metadata": {},
   "source": [
    "#### Usable links"
   ]
  },
  {
   "cell_type": "markdown",
   "metadata": {},
   "source": [
    "- Solve Transportation Problem online: http://cbom.atozmath.com/CBOM/Transportation.aspx?q=modi\n",
    "- MODI illustration: http://zoomin.idt.mdh.se/course/kpp227/Documents/MODI.pdf"
   ]
  },
  {
   "cell_type": "markdown",
   "metadata": {
    "collapsed": true
   },
   "source": [
    "# TSP\n",
    "Given a list of cities and the distances between each pair of cities, what is the shortest possible route that visits each city and returns to the origin city?"
   ]
  },
  {
   "cell_type": "markdown",
   "metadata": {},
   "source": [
    "## Construction Heuristics\n",
    "A heuristic is a technique designed for solving a problem more quickly when classic methods are too slow."
   ]
  },
  {
   "cell_type": "markdown",
   "metadata": {},
   "source": [
    "### Nearest Unvisited Neighbor Heuristic\n",
    "The nearest neighbour (NN) algorithm (D greedy algorithm) lets the salesman choose the nearest unvisited city as his next move. This algorithm quickly yields an effectively short route. For N cities randomly distributed on a plane, the algorithm on average yields a path 25% longer than the shortest possible path."
   ]
  },
  {
   "cell_type": "code",
   "execution_count": 1,
   "metadata": {
    "collapsed": true
   },
   "outputs": [],
   "source": [
    "import numpy as np\n",
    "\n",
    "def to_edges(route):\n",
    "    return list(zip(route, route[1:]))\n",
    "\n",
    "def length(D, route):\n",
    "    edges = to_edges(route)\n",
    "    return np.sum([D[e[0], e[1]] for e in edges])"
   ]
  },
  {
   "cell_type": "code",
   "execution_count": 649,
   "metadata": {
    "collapsed": true
   },
   "outputs": [],
   "source": [
    "def NN(D, start):\n",
    "    route = [start]\n",
    "    i = start\n",
    "    while len(route) < len(D[0]):\n",
    "        min_d = D[i, :].max() # initial value, must be non-zero\n",
    "        min_j = D[i, :].argmax()\n",
    "        for j, d in enumerate(D[i, :]):\n",
    "            if j != i and j not in route and d < min_d:\n",
    "                min_d = d\n",
    "                min_j = j\n",
    "        route.append(min_j)\n",
    "        i = min_j\n",
    "    route.append(start)\n",
    "    return route"
   ]
  },
  {
   "cell_type": "code",
   "execution_count": 672,
   "metadata": {
    "collapsed": true
   },
   "outputs": [],
   "source": [
    "def symmetrize(D):\n",
    "    return D + D.T - np.diag(D.diagonal())\n",
    "\n",
    "init_solution = [0, 2, 4, 1, 3, 5, 7, 6, 0]\n",
    "D = np.array([\n",
    "    [0, 4, 3, 4, 4, 7, 8, 8],\n",
    "    [0, 0, 2, 6, 3, 6, 8, 7],\n",
    "    [0, 0, 0, 4, 1, 4, 6, 5],\n",
    "    [0, 0, 0, 0, 5, 4, 4, 5],\n",
    "    [0, 0, 0, 0, 0, 3, 5, 4],\n",
    "    [0, 0, 0, 0, 0, 0, 3, 2],\n",
    "    [0, 0, 0, 0, 0, 0, 0, 1],\n",
    "    [0, 0, 0, 0, 0, 0, 0, 0]\n",
    "])\n",
    "D = symmetrize(D)"
   ]
  },
  {
   "cell_type": "code",
   "execution_count": 674,
   "metadata": {},
   "outputs": [
    {
     "data": {
      "text/plain": [
       "([0, 2, 4, 1, 3, 5, 7, 6, 0], 28)"
      ]
     },
     "execution_count": 674,
     "metadata": {},
     "output_type": "execute_result"
    }
   ],
   "source": [
    "best = NN(D, 0)\n",
    "best, length(D, best)"
   ]
  },
  {
   "cell_type": "markdown",
   "metadata": {},
   "source": [
    "### Insertion Heuristics\n",
    "An intuitive approach to the TSP is to start with a subtour, i.e. a tour on small subsets of nodes, and then extend this tour by inserting the remaining nodes one after the other until all nodes have been inserted. The major difference between insertion schemes is the order in which the nodes are inserted."
   ]
  },
  {
   "cell_type": "code",
   "execution_count": 675,
   "metadata": {
    "collapsed": true
   },
   "outputs": [],
   "source": [
    "def insertion(D):\n",
    "    route = []\n",
    "    for i in range(len(D)):\n",
    "        if i == 0:\n",
    "            route.append(0)\n",
    "        elif i == 1:\n",
    "            route.append(1)\n",
    "            route.append(0)\n",
    "        else:\n",
    "            routes = []\n",
    "            for j in range(1, len(route)-1):\n",
    "                temp_route = route.copy()\n",
    "                temp_route.insert(j, i)\n",
    "                routes.append(temp_route)\n",
    "            route = sorted(routes, key=lambda x: length(D, x))[0]\n",
    "    return route"
   ]
  },
  {
   "cell_type": "code",
   "execution_count": 676,
   "metadata": {},
   "outputs": [
    {
     "data": {
      "text/plain": [
       "([0, 3, 6, 7, 5, 4, 2, 1, 0], 21)"
      ]
     },
     "execution_count": 676,
     "metadata": {},
     "output_type": "execute_result"
    }
   ],
   "source": [
    "best = insertion(D)\n",
    "best, length(D, best)"
   ]
  },
  {
   "cell_type": "markdown",
   "metadata": {},
   "source": [
    "## Improvement Heuristics"
   ]
  },
  {
   "cell_type": "markdown",
   "metadata": {},
   "source": [
    "### The pairwise exchange or 2-opt heuristic\n",
    "The pairwise exchange or 2-opt technique involves iteratively removing two edges and replacing these with two different edges that reconnect the fragments created by edge removal into a new and shorter tour. This is a special case of the k-opt method. Simple explained: The main idea behind it is to take a route that crosses over itself and reorder it so that it does not.\n",
    "<img src=\"https://computingcore.files.wordpress.com/2013/04/kopt.png\"/>"
   ]
  },
  {
   "cell_type": "markdown",
   "metadata": {},
   "source": [
    "#### Example"
   ]
  },
  {
   "cell_type": "code",
   "execution_count": 5,
   "metadata": {
    "collapsed": true
   },
   "outputs": [],
   "source": [
    "def pairwise_exchange(route, edges):\n",
    "    e1, e2 = edges\n",
    "    return route[:e1+1] + route[e1+1:e2+1][::-1] + route[e2+1:]"
   ]
  },
  {
   "cell_type": "code",
   "execution_count": 6,
   "metadata": {},
   "outputs": [
    {
     "data": {
      "text/plain": [
       "['A', 'H', 'G', 'F', 'E', 'D', 'C', 'B', 'A']"
      ]
     },
     "execution_count": 6,
     "metadata": {},
     "output_type": "execute_result"
    }
   ],
   "source": [
    "route = ['A', 'B', 'C', 'D', 'E', 'F', 'G', 'H', 'A']\n",
    "pairwise_exchange(route, [0, 7])"
   ]
  },
  {
   "cell_type": "markdown",
   "metadata": {},
   "source": [
    "## Chinese Postman Problem\n",
    "All edges (not nodes) of a network have to be visited. Solving methods include transformation into an asymmetric TSP."
   ]
  },
  {
   "cell_type": "markdown",
   "metadata": {},
   "source": [
    "## Cost allocation: Shapley Value (game theory)\n",
    "The solution, known as the Shapley value, has a nice interpretation in terms of expected marginal contribution. It is calculated by considering all the possible orders of arrival of the players into a game and giving each player his marginal contribution."
   ]
  },
  {
   "cell_type": "markdown",
   "metadata": {},
   "source": [
    "1. Calculate worth of \n",
    "    - individual players $\\{A\\},\\{B\\},\\{C\\}$\n",
    "    - their coalitions $S\\in\\{AB\\},\\{AC\\},\\{BC\\},\\{ABC\\}$\n",
    "2. For all permutations, calculate the marginal contribution of each player\n",
    "3. For each player, calculate the expected marginal contribution\n",
    "\n",
    "| Permutation | A | B | C |\n",
    "|-|-|-|-|\n",
    "| ABC | v({A}) | v({AB}) - v({A}) | v({ABC}) - v({AB}) |\n",
    "| ACB | v({A}) | v({ABC}) - v({AC}) | v({AC}) - v({A}) |\n",
    "| BAC | v({AB}) - v({A}) | v({B}) | v({ABC}) - v({AB}) |\n",
    "| BCA | v({ABC}) - v({BC}) | v({B}) | v({BC}) - v({B}) |\n",
    "| CAB | v({AC}) - v({C}) | v({ABC}) - v({AC}) | v({C}) |\n",
    "| CBA | v({ABC}) - v({BC}) | v({BC}) - v({C}) | v({C}) |"
   ]
  },
  {
   "cell_type": "markdown",
   "metadata": {},
   "source": [
    "- Good example: http://faculty.econ.ucdavis.edu/faculty/bonanno/teaching/122/Shapley.pdf"
   ]
  },
  {
   "cell_type": "markdown",
   "metadata": {
    "collapsed": true
   },
   "source": [
    "# VRP\n",
    "Extension of TSP by adding capacity constraints."
   ]
  },
  {
   "cell_type": "markdown",
   "metadata": {
    "collapsed": true
   },
   "source": [
    "## Heuristics"
   ]
  },
  {
   "cell_type": "markdown",
   "metadata": {},
   "source": [
    "### 1. Route, 2. Cluster: TSP and revisit\n",
    "Determine a tour without capacity constraints (TSP). Then go back to depot if the next customer cannot be visited with given capacity."
   ]
  },
  {
   "cell_type": "markdown",
   "metadata": {},
   "source": [
    "1. Optimal TSP solution\n",
    "    - A => B => C => D => E => F => G => H => A\n",
    "2. Clustering (length of each route can vary based on capacity constraints)\n",
    "    - A => B => C => A\n",
    "    - A => D => E => A\n",
    "    - A => F => G => A\n",
    "    - A => H => A"
   ]
  },
  {
   "cell_type": "markdown",
   "metadata": {},
   "source": [
    "### 1. Cluster, 2. Route: Sweep method\n",
    "Representation of customers in sequence of their polar coordinates.\n",
    "<img src=\"http://images.slideplayer.com/15/4540330/slides/slide_5.jpg\" width=\"500px\">"
   ]
  },
  {
   "cell_type": "markdown",
   "metadata": {},
   "source": [
    "1. Locate all customers on a map or grid\n",
    "2. Extend a straight line from $(0, 0)$ to first node $(x_1, y_1)$\n",
    "3. Rotate the line clockwise or counterclockwise\n",
    "    - Gradually add nodes to the cluster until the vehicle's capacity would be exceeded\n",
    "    - Calculate the optimal TSP solution for the given cluster\n",
    "    - Finish the cluster if capacity exceeeded, otherwise continue with the process\n",
    "4. Repeat the process starting from another node $(x_i, y_i)$\n",
    "5. Choose the optimal solution \n",
    "    - One with the smallest total length\n",
    "    - Preferably evenly distributed clusters (some buffer for trafic jams, etc.)"
   ]
  },
  {
   "cell_type": "markdown",
   "metadata": {},
   "source": [
    "### Route + Cluster simultaniously: Savings method\n",
    "<img src=\"http://images.slideplayer.com/28/9374696/slides/slide_35.jpg\" width=\"500px\">"
   ]
  },
  {
   "cell_type": "markdown",
   "metadata": {},
   "source": [
    "- Step 1. Savings computation\n",
    "    - Create ${n}$ vehicle routes ${(0,i,0)}$\n",
    "        - from depot to customer and back to depot\n",
    "    - Order the savings in a descreasing fashion.\n",
    "    - Compute the savings ${s_{ij}=d_{0i}+d_{0j}-d_{ij}}$\n",
    "        - from depot to customer $n_i$ to customer $n_j$ and back to depot\n",
    "- Step 2. Starting from the top of the savings list, execute the following:\n",
    "    - Given a saving ${s_{ij}}$, determine whether there exist two routes that can feasibility be merged:\n",
    "    - One starting with ${(0,j)}$ and one ending with ${(i,0)}$\n",
    "        - only connect nodes directly connected to depot\n",
    "    - Combine these two routes by deleting ${(0,j)}$ and ${(i,0)}$ and introducing ${(i,j)}$."
   ]
  },
  {
   "cell_type": "markdown",
   "metadata": {},
   "source": [
    "# Metaheuristics\n",
    "Heuristics are often problem-dependent, that is, you define an heuristic for a given problem. Meta-heuristics are problem-independent techniques that can be applied to a broad range of problems."
   ]
  },
  {
   "cell_type": "markdown",
   "metadata": {},
   "source": [
    "Advantages:\n",
    "- Finding fast solutions\n",
    "- General solution procedures\n",
    "\n",
    "Disadvantages:\n",
    "- No guarantee of finding the optimum\n",
    "- No measurement of solution quality"
   ]
  },
  {
   "cell_type": "markdown",
   "metadata": {},
   "source": [
    "## Simulated Annealing\n",
    "It is a metaheuristic to approximate global optimization in a large search space. It is often used when the search space is discrete (e.g., all tours that visit a given set of cities). For problems where finding an approximate global optimum is more important than finding a precise local optimum in a fixed amount of time, simulated annealing may be preferable to alternatives such as gradient descent.\n",
    "<img src=\"https://image.slidesharecdn.com/part2letterassignment-150624063825-lva1-app6892/95/modelbased-user-interface-optimization-part-ii-letter-assignment-at-sicsa-summer-school-on-computational-interaction-2015-48-638.jpg?cb=1435128014\" width=\"500px\">\n",
    "\n",
    "**Sometimes things really do have to get worse before they can get better.**\n",
    "\n",
    "- Interactive example: http://toddwschneider.com/posts/traveling-salesman-with-simulated-annealing-r-and-shiny/"
   ]
  },
  {
   "cell_type": "code",
   "execution_count": 755,
   "metadata": {},
   "outputs": [],
   "source": [
    "def simulated_annealing(D, cooling_rate, stop_it):\n",
    "    # Create the initial feasable solution. (e.g. NN)\n",
    "    x = NN(D, 0)\n",
    "    T = np.sqrt(len(x))\n",
    "    X = []\n",
    "    \n",
    "    for i in range(stop_it):\n",
    "        # Pick a new candidate tour at random from all neighbors of the existing tour. (e.g. 2-opt randomly)\n",
    "        e1 = np.random.choice(range(len(x)-3)) # swap of minimum two nodes\n",
    "        e2 = np.random.choice(range(e1, len(x)-1))\n",
    "        opt_edges = [e1, e2]\n",
    "        route = pairwise_exchange(x, opt_edges)\n",
    "        l = length(D, route)\n",
    "        delta = l - length(D, x)\n",
    "\n",
    "        if delta <= 0:\n",
    "            # If the candidate tour is better than the existing tour, accept it as the new tour\n",
    "            x = route\n",
    "            X.append(x)\n",
    "        else:\n",
    "            # If the candidate tour is worse than the existing tour, still maybe accept it, according to some probability\n",
    "            # The probability of accepting an inferior tour is a function of how much longer the candidate is compared to the current tour, and the temperature of the annealing process. \n",
    "            # A higher temperature makes you more likely to accept an inferior tour.\n",
    "            rand = random.uniform(0, 1)\n",
    "            p = np.exp(-delta/T)\n",
    "            if rand < p:\n",
    "                x = route\n",
    "                X.append(x)\n",
    "            \n",
    "        # Cool down the temperature\n",
    "        T *= cooling_rate\n",
    "    \n",
    "    # Return the best solution found so far\n",
    "    return sorted(X, key=lambda x: length(D, x))[0]"
   ]
  },
  {
   "cell_type": "code",
   "execution_count": 756,
   "metadata": {},
   "outputs": [
    {
     "data": {
      "text/plain": [
       "([0, 3, 6, 7, 5, 4, 2, 1, 0], 21)"
      ]
     },
     "execution_count": 756,
     "metadata": {},
     "output_type": "execute_result"
    }
   ],
   "source": [
    "best = simulated_annealing(D, 0.995, 100)\n",
    "best, length(D, best)"
   ]
  },
  {
   "cell_type": "markdown",
   "metadata": {},
   "source": [
    "## Tabu Search\n",
    "The objective for the Tabu Search algorithm is to constrain from returning to recently visited areas of the search space, referred to as cycling. \n",
    "<img src=\"https://image.slidesharecdn.com/part2letterassignment-150624063825-lva1-app6892/95/modelbased-user-interface-optimization-part-ii-letter-assignment-at-sicsa-summer-school-on-computational-interaction-2015-46-638.jpg?cb=1435128014\" width=\"500px\">"
   ]
  },
  {
   "cell_type": "code",
   "execution_count": 751,
   "metadata": {
    "collapsed": true
   },
   "outputs": [],
   "source": [
    "def tabu_search(D, nb_size, t_size, stop_it):\n",
    "    # Generate starting solution (e.g. using NN)\n",
    "    x = NN(D, 0)\n",
    "    X = []\n",
    "    T = []\n",
    "    \n",
    "    for i in range(stop_it):\n",
    "        # - At each step, look for the best solution in the neighborhood\n",
    "        # - A neighborhood to a given solution is defined as any other solution that is obtained by a pair wise exchange of any two nodes in the solution\n",
    "        NB = []\n",
    "        for j in range(nb_size):\n",
    "            # Generate random opt2-operation\n",
    "            e1 = np.random.choice(range(len(x)-3)) # swap of minimum two nodes\n",
    "            e2 = np.random.choice(range(e1, len(x)-1))\n",
    "            opt_edges = [e1, e2]\n",
    "            route = pairwise_exchange(x, opt_edges)\n",
    "            l = length(D, route)\n",
    "            \n",
    "            # - To prevent the process from cycling in a small set of solutions, some attribute (pair of exchanged nodes) of recently visited solutions is stored in a Tabu List\n",
    "            if opt_edges not in T:\n",
    "                NB.append((opt_edges, route, l))\n",
    "                \n",
    "        # Choose the best neighbor\n",
    "        opt_edges, route, l = sorted(NB, key=lambda n: n[2])[0]\n",
    "        \n",
    "        # Update only if new candidate better than the last candidate\n",
    "        delta = l - length(D, x)\n",
    "        if delta <= 0:\n",
    "            x = route\n",
    "            X.append(x)\n",
    "            \n",
    "            # Add the feature of the best candidate to the Tabu list\n",
    "            T.append(opt_edges)\n",
    "            \n",
    "            # Pop first element of Tabu list if maximum size exceeded\n",
    "            if len(T) > t_size:\n",
    "                T = T[1:]\n",
    "    \n",
    "    # Return the best solution found so far\n",
    "    return sorted(X, key=lambda x: length(D, x))[0]"
   ]
  },
  {
   "cell_type": "code",
   "execution_count": 752,
   "metadata": {},
   "outputs": [
    {
     "data": {
      "text/plain": [
       "([0, 3, 6, 7, 5, 4, 2, 1, 0], 21)"
      ]
     },
     "execution_count": 752,
     "metadata": {},
     "output_type": "execute_result"
    }
   ],
   "source": [
    "best = tabu_search(D, 3, 3, 100)\n",
    "best, length(D, best)"
   ]
  },
  {
   "cell_type": "markdown",
   "metadata": {},
   "source": [
    "## Genetic Algorithm\n",
    "Genetic algorithms are commonly used to generate high-quality solutions to optimization and search problems by relying on bio-inspired operators such as mutation, crossover and selection. \n",
    "<img src=\"https://nnpdf.hepforge.org/images/GA.png\" width=\"400px\">\n",
    "\n",
    "- GA application on TSP: https://iccl.inf.tu-dresden.de/w/images/b/b7/GA_for_TSP.pdf\n",
    "- Generic implementation: https://gist.github.com/josephmisiti/940cee03c97f031188ba7eac74d03a4f"
   ]
  },
  {
   "cell_type": "code",
   "execution_count": 623,
   "metadata": {},
   "outputs": [],
   "source": [
    "def encode_tour(tour):\n",
    "    # - The mutation operator and the one-point crossover are likely to generate infeasible tours.\n",
    "    # - The TSP, as opposed to most problems tackled by genetic algorithms, is a pure ordering problem.\n",
    "    # - Namely, all chromosomes carry exactly the same values and differ only in the ordering of these values.\n",
    "    # - This implementation focuses on the relative order of the nodes to tacke this problem.\n",
    "        \n",
    "    tour = tour.copy()[:-1] # not include last (= first) value\n",
    "    encoded = []\n",
    "    # For each element in tour, order list starting from this element and save its index\n",
    "    for i, node in enumerate(tour):\n",
    "        encoded.append(sorted(tour[i:]).index(node))\n",
    "    # Returns list of indices\n",
    "    return encoded\n",
    "\n",
    "def subtract(x, y):\n",
    "    return [item for item in x if item not in y]\n",
    "\n",
    "def decode_tour(encoded):\n",
    "    ordered = range(len(encoded))\n",
    "    decoded = []\n",
    "    # For each index, find a non-repeating value corresponding to this index\n",
    "    # from ordered list of all possible values\n",
    "    for i, node in enumerate(encoded):\n",
    "        remaining = subtract(range(len(encoded)), decoded)\n",
    "        decoded.append(remaining[node])\n",
    "    decoded.append(decoded[0]) # append last (= first) value\n",
    "    return decoded"
   ]
  },
  {
   "cell_type": "code",
   "execution_count": 631,
   "metadata": {},
   "outputs": [],
   "source": [
    "def random_population(n, m):\n",
    "    # - The process begins with a set of individuals which is called a Population. \n",
    "    # - An individual is characterized by a set of parameters (variables) known as Genes. \n",
    "    # - Genes are joined into a string to form a Chromosome (solution).\n",
    "    \n",
    "    # Generate random population with shape (N, M)\n",
    "    P = []\n",
    "    for i in range(n):\n",
    "        ind = list(range(m - 1))\n",
    "        np.random.shuffle(ind)\n",
    "        ind.append(ind[0])\n",
    "        P.append(ind)\n",
    "    return P\n",
    "\n",
    "def fitness(D, P):\n",
    "    # - The fitness of the chromosome is related to the tour length, which in turn depends on the ordering of the nodes.\n",
    "    # - Since the TSP is a minimization problem, the tour lengths must be transformed so that high fitness values are associated with short tours\n",
    "    # - A well-known approach is to subtract each tour length to the maximum tour length found in the current population.\n",
    "    \n",
    "    values = np.array([length(D, p) for p in P])\n",
    "    values = np.max(values) - values\n",
    "    return sorted(zip(P, values), key=lambda x: x[1], reverse=True)\n",
    "\n",
    "def weighted_select(D, P):\n",
    "    # - Two pairs of individuals (parents) are selected based on their fitness scores. \n",
    "    # - The probability that an individual will be selected for reproduction is based on its fitness score.\n",
    "    # - Individuals with high fitness have more chance to be selected for reproduction.\n",
    "    \n",
    "    F = fitness(D, P)\n",
    "    _, fitness_values = zip(*F)\n",
    "    fvsum = np.sum(fitness_values)\n",
    "    weights = [fv / fvsum for fv in fitness_values]\n",
    "    indices = np.random.choice(np.arange(0, len(P)), 2, p=weights, replace=False)\n",
    "    return F[indices[0]][0], F[indices[1]][0]\n",
    "\n",
    "def crossover(p1, p2):\n",
    "    # - For each pair of parents to be mated, a crossover point is chosen at random from within the genes.\n",
    "    # - Offspring are created by exchanging the genes of parents among themselves until the crossover point is reached.\n",
    "        \n",
    "    # Generate two new individuals by a random crossover\n",
    "    cut = np.random.choice(range(1, len(p1)))\n",
    "    return p1[:cut] + p2[cut:], p2[:cut] + p1[cut:]\n",
    "\n",
    "def mutate(ind, p):\n",
    "    # - In certain new offspring formed, some of their genes can be subjected to a mutation with a low random probability.\n",
    "    # - Mutation occurs to maintain diversity within the population and prevent premature convergence.\n",
    "        \n",
    "    # Mutate each gene with certain probability\n",
    "    mutated = []\n",
    "    for i in range(len(ind)):\n",
    "        if np.random.random() <= p:\n",
    "            # Consider each gen as an index in encoded individual\n",
    "            # The more to the right, the less an index can be\n",
    "            allowed_len = len(ind)-len(mutated)\n",
    "            mutated.append(np.random.choice(range(allowed_len)))\n",
    "        else:\n",
    "            mutated.append(ind[i])\n",
    "    return mutated"
   ]
  },
  {
   "cell_type": "code",
   "execution_count": 744,
   "metadata": {},
   "outputs": [],
   "source": [
    "def genetic_algorithm(D, n, p, stop_it):\n",
    "    # Generate population\n",
    "    P = random_population(n, len(D))\n",
    "    \n",
    "    for i in range(stop_it):\n",
    "        # New generation\n",
    "        \n",
    "        # Select\n",
    "        p1, p2 = weighted_select(D, P)\n",
    "        \n",
    "        # Encode\n",
    "        p1 = encode_tour(p1)\n",
    "        p2 = encode_tour(p2)\n",
    "        \n",
    "        # Crossover\n",
    "        c1, c2 = crossover(p1, p2)\n",
    "        \n",
    "        # Mutate\n",
    "        c1 = mutate(c1, p)\n",
    "        c2 = mutate(c2, p)\n",
    "            \n",
    "        # Decode\n",
    "        c1 = decode_tour(c1)\n",
    "        c2 = decode_tour(c2)\n",
    "        \n",
    "        # Add to the Population\n",
    "        P.append(c1)\n",
    "        P.append(c2)\n",
    "        \n",
    "    # Return the best solution found so far\n",
    "    return sorted(P, key=lambda p: length(D, p))[0]"
   ]
  },
  {
   "cell_type": "code",
   "execution_count": 745,
   "metadata": {},
   "outputs": [
    {
     "data": {
      "text/plain": [
       "([6, 3, 0, 4, 1, 2, 5, 6], 24)"
      ]
     },
     "execution_count": 745,
     "metadata": {},
     "output_type": "execute_result"
    }
   ],
   "source": [
    "best = genetic_algorithm(D, 10, 0.01, 100)\n",
    "best, length(D, best)"
   ]
  },
  {
   "cell_type": "code",
   "execution_count": null,
   "metadata": {
    "collapsed": true
   },
   "outputs": [],
   "source": []
  }
 ],
 "metadata": {
  "anaconda-cloud": {},
  "kernelspec": {
   "display_name": "Python [default]",
   "language": "python",
   "name": "python3"
  },
  "language_info": {
   "codemirror_mode": {
    "name": "ipython",
    "version": 3
   },
   "file_extension": ".py",
   "mimetype": "text/x-python",
   "name": "python",
   "nbconvert_exporter": "python",
   "pygments_lexer": "ipython3",
   "version": "3.6.1"
  },
  "toc": {
   "nav_menu": {},
   "number_sections": true,
   "sideBar": true,
   "skip_h1_title": false,
   "toc_cell": false,
   "toc_position": {},
   "toc_section_display": "block",
   "toc_window_display": false
  },
  "varInspector": {
   "cols": {
    "lenName": 16,
    "lenType": 16,
    "lenVar": 40
   },
   "kernels_config": {
    "python": {
     "delete_cmd_postfix": "",
     "delete_cmd_prefix": "del ",
     "library": "var_list.py",
     "varRefreshCmd": "print(var_dic_list())"
    },
    "r": {
     "delete_cmd_postfix": ") ",
     "delete_cmd_prefix": "rm(",
     "library": "var_list.r",
     "varRefreshCmd": "cat(var_dic_list()) "
    }
   },
   "types_to_exclude": [
    "module",
    "function",
    "builtin_function_or_method",
    "instance",
    "_Feature"
   ],
   "window_display": false
  }
 },
 "nbformat": 4,
 "nbformat_minor": 2
}
