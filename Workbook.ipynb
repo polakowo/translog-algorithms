{
 "cells": [
  {
   "cell_type": "markdown",
   "metadata": {},
   "source": [
    "# Transportation Problem: MODI"
   ]
  },
  {
   "cell_type": "markdown",
   "metadata": {},
   "source": [
    "## 1. Balance supply and demand\n",
    "In case the demand is more than supply, then dummy origin is added to the table. The supply of dummy origin will be equal to the difference between the total supply and total demand. The cost associated with the dummy origin will be zero (or other supply/demand-related cost)"
   ]
  },
  {
   "cell_type": "code",
   "execution_count": 1,
   "metadata": {
    "collapsed": true
   },
   "outputs": [],
   "source": [
    "import numpy as np\n",
    "\n",
    "def balance_supply_demand(C, supply, demand):\n",
    "    C = C.copy()\n",
    "    supply = supply.copy()\n",
    "    demand = demand.copy()\n",
    "    s = sum(supply)\n",
    "    d = sum(demand)\n",
    "    \n",
    "    if s < d:\n",
    "        # Create artificial supply row\n",
    "        supply.append(d - s)\n",
    "        C = np.append(C, [C[-1, :]*0], axis=0)\n",
    "    elif s > d:\n",
    "        demand.append(s - d)\n",
    "        # Create artificial demand column\n",
    "        C = np.append(C, np.zeros((C.shape[0], 1)), axis=1)\n",
    "    return C, supply, demand"
   ]
  },
  {
   "cell_type": "markdown",
   "metadata": {},
   "source": [
    "## 2. Obtain the initial feasable solution\n",
    "\n",
    "Identifying the solution that satisfies the requirements of demand and supply. "
   ]
  },
  {
   "cell_type": "markdown",
   "metadata": {},
   "source": [
    "### Northwest Corner Rule\n",
    "\n",
    "The North-West Corner Rule is a method adopted to compute the initial feasible solution of the transportation problem. The name North-west corner is given to this method because the basic variables are selected from the extreme left corner. Doesn't consider transportation costs."
   ]
  },
  {
   "cell_type": "markdown",
   "metadata": {},
   "source": [
    "<img src=\"https://www.linearprogramming.info/wp-content/uploads/2015/10/Northwest-Corner-Model-solu.gif\"/>"
   ]
  },
  {
   "cell_type": "code",
   "execution_count": 2,
   "metadata": {
    "collapsed": true
   },
   "outputs": [],
   "source": [
    "def northwest_corner_rule(C, supply, demand):\n",
    "    supply = supply.copy()\n",
    "    demand = demand.copy()\n",
    "    Q = np.empty(C.shape)\n",
    "    Q[:] = np.nan\n",
    "    i, j = 0, 0\n",
    "    \n",
    "    while sum(supply) > 0 and sum(demand) > 0:\n",
    "        min_q = min(supply[i], demand[j])\n",
    "        Q[i, j] = min_q\n",
    "        supply[i] -= min_q\n",
    "        demand[j] -= min_q\n",
    "        if supply[i] == 0:\n",
    "            i += 1\n",
    "        if demand[j] == 0:\n",
    "            j += 1\n",
    "    return Q"
   ]
  },
  {
   "cell_type": "markdown",
   "metadata": {},
   "source": [
    "### Least Cost Method\n",
    "\n",
    "The Least Cost Method is another method used to obtain the initial feasible solution for the transportation problem. Here, the allocation begins with the cell which has the minimum cost. The lower cost cells are chosen over the higher-cost cell with the objective to have the least cost of transportation."
   ]
  },
  {
   "cell_type": "markdown",
   "metadata": {},
   "source": [
    "- In which cell we shall allocate? Generally, the cost where maximum quantity can be assigned should be chosen to obtain the better initial solution"
   ]
  },
  {
   "cell_type": "code",
   "execution_count": 3,
   "metadata": {
    "collapsed": true
   },
   "outputs": [],
   "source": [
    "def matrix_min_rule(C, supply, demand):\n",
    "    C = C.copy()\n",
    "    supply = supply.copy()\n",
    "    demand = demand.copy()\n",
    "    Q = np.empty(C.shape)\n",
    "    Q[:] = np.nan\n",
    "    \n",
    "    while sum(supply) > 0 and sum(demand) > 0:\n",
    "        i, j = np.unravel_index(C.argmin(), C.shape)\n",
    "        min_q = min(supply[i], demand[j])\n",
    "        if min_q != 0:\n",
    "            Q[i, j] = min_q\n",
    "            supply[i] -= min_q\n",
    "            demand[j] -= min_q\n",
    "        C[i, j] = C.max() + 1 # creates a ring of min values\n",
    "    return Q"
   ]
  },
  {
   "cell_type": "markdown",
   "metadata": {},
   "source": [
    "## 3. Test degeneration"
   ]
  },
  {
   "cell_type": "markdown",
   "metadata": {},
   "source": [
    "- If the solution is degenerate, make use of an artificial quantity ($=0$)\n",
    "- The quantity is assigned to unoccupied cell, which has the minimum transportation cost\n",
    "- If quantity is inside of loop and negative (its already $0$ and cannot be reduced further), recalculate using another cell"
   ]
  },
  {
   "cell_type": "code",
   "execution_count": 4,
   "metadata": {
    "collapsed": true
   },
   "outputs": [],
   "source": [
    "def degeneration_test(C, Q, blacklist):\n",
    "    C = C.copy()\n",
    "    Q = Q.copy()\n",
    "    s, d = Q.shape\n",
    "    artvars = (s + d) - np.count_nonzero(~np.isnan(Q)) - 1\n",
    "    if artvars == 0:\n",
    "        return Q\n",
    "    for artvar in range(artvars):\n",
    "        while True:\n",
    "            i, j = np.unravel_index(C.argmin(), C.shape)\n",
    "            C[i, j] = C.max() + 1\n",
    "            if np.isnan(Q[i, j]) and (i, j) not in blacklist:\n",
    "                # Place artificial quantity (=0) to the next global min\n",
    "                Q[i, j] = 0\n",
    "                break\n",
    "    return Q"
   ]
  },
  {
   "cell_type": "markdown",
   "metadata": {},
   "source": [
    "## 4. Calculate opportunity costs\n",
    "1. Calculate the values of $u_i$ and $v_j$ by using the equation $u_i+v_j = c_{ij}$\n",
    "    - Introduce the variables $u_i$ (rows) and $v_i$ (columns). Set $u$ to $0$ (Convenient rule is to select the ui, which has the largest number of allocations in its row)\n",
    "    - For each occupied cell calculate $u_i$ and $v_i$ using equation $c_{ij}=u_i+v_i$.\n",
    "2. Calculate the opportunity costs (or reduced costs) of the unoccupied cells by using the formula $c_{ij}-u_i+v_i$ (which becomes the same value using Stepping Stone)\n",
    "3. Choose the largest opportunity cost and start from there"
   ]
  },
  {
   "cell_type": "code",
   "execution_count": 5,
   "metadata": {
    "collapsed": true
   },
   "outputs": [],
   "source": [
    "def opportunity_costs(C, Q):\n",
    "    # Calculate u's and v's\n",
    "    QC = Q * 0 + C\n",
    "    u = np.zeros(C.shape[0])\n",
    "    u[1:] = np.nan\n",
    "    v = np.empty(C.shape[1])\n",
    "    v[:] = np.nan\n",
    "    nonnans = np.argwhere(~np.isnan(Q))\n",
    "    while any(np.isnan(u)) or any(np.isnan(v)):\n",
    "        for i, j in nonnans:\n",
    "            if ~np.isnan(u[i]) and ~np.isnan(v[j]):\n",
    "                continue\n",
    "            if ~np.isnan(u[i]):\n",
    "                v[j] = QC[i, j] - u[i]\n",
    "            elif ~np.isnan(v[j]):\n",
    "                u[i] = QC[i, j] - v[j]\n",
    "          \n",
    "    # Calculate opportunity (reduced) costs\n",
    "    OC = np.empty(C.shape)\n",
    "    OC[:] = np.nan\n",
    "    nans = np.argwhere(np.isnan(Q))\n",
    "    for i, j in nans:\n",
    "        OC[i, j] = C[i, j] - u[i] - v[j]\n",
    "    return OC"
   ]
  },
  {
   "cell_type": "markdown",
   "metadata": {},
   "source": [
    "## 5. Find a closed path\n",
    "- Closed loops are formed starting in an empty cell\n",
    "- Go to an allocated cell, then another and another until returning to empty cell"
   ]
  },
  {
   "cell_type": "code",
   "execution_count": 6,
   "metadata": {
    "collapsed": true
   },
   "outputs": [],
   "source": [
    "def find_path(Q, stop_ij, from_ij, mode):\n",
    "    from_i, from_j = from_ij\n",
    "    if mode == 'v':\n",
    "        # Find a candidate vertically\n",
    "        for i in range(Q.shape[0]):\n",
    "            if i != from_i and ~np.isnan(Q[i, from_j]):\n",
    "                if (i, from_j) == stop_ij:\n",
    "                    # Stop iteration if initial cell found\n",
    "                    return [from_ij, stop_ij]\n",
    "                # Next candidate found, continue from it recursivelly\n",
    "                path = find_path(Q, stop_ij, (i, from_j), 'h')\n",
    "                # Return if initial cell in the path\n",
    "                if path and stop_ij in path:\n",
    "                    return [from_ij] + path\n",
    "    elif mode == 'h':\n",
    "        # Find a candidate horizontally\n",
    "        for j in range(Q.shape[1]):\n",
    "            if j != from_j and ~np.isnan(Q[from_i, j]):\n",
    "                if (from_i, j) == stop_ij:\n",
    "                    return [from_ij, stop_ij]\n",
    "                path = find_path(Q, stop_ij, (from_i, j), 'v')\n",
    "                if path and stop_ij in path:\n",
    "                    return [from_ij] + path\n",
    "                \n",
    "def closed_path(Q, from_ij):\n",
    "    path = find_path(Q, from_ij, from_ij, 'v')\n",
    "    if path is not None:\n",
    "        return path[:-1]"
   ]
  },
  {
   "cell_type": "markdown",
   "metadata": {},
   "source": [
    "## 6. Reallocate quantities\n",
    "- Look at the giving cells around and shift the minimum to the unallocated cell, while maintaining the feasibility constraints of supply and demand\n",
    "- Other quantities must remain positive"
   ]
  },
  {
   "cell_type": "markdown",
   "metadata": {},
   "source": [
    "## 7. Testing the optimality of the solution\n",
    "- Repeat the process until opportunity costs are all positive."
   ]
  },
  {
   "cell_type": "code",
   "execution_count": 66,
   "metadata": {
    "collapsed": true
   },
   "outputs": [],
   "source": [
    "def MODI(C, supply, demand):\n",
    "    # Balance supply-demand-equation\n",
    "    C, supply, demand = balance_supply_demand(C, supply, demand)\n",
    "    \n",
    "    # Make initial feasible solution\n",
    "    Q = matrix_min_rule(C, supply, demand)\n",
    "    \n",
    "    blacklist = []\n",
    "    while True:\n",
    "        # Solve degeneration\n",
    "        DQ = degeneration_test(C, Q, blacklist)\n",
    "    \n",
    "        # Calculate the opportunity costs\n",
    "        OC = opportunity_costs(C, DQ)\n",
    "        if np.all(OC[~np.isnan(OC)] >= 0):\n",
    "            # Terminate if all opportunity costs positive\n",
    "            break\n",
    "        \n",
    "        # Select the cell with the maximum opportunity costs\n",
    "        empty_index = np.unravel_index(np.nanargmin(OC), OC.shape)\n",
    "        DQ[empty_index] = 0\n",
    "        \n",
    "        # Find a closed path from the cell\n",
    "        path = closed_path(DQ, empty_index)\n",
    "        \n",
    "        invalid_artval = False\n",
    "        if path:\n",
    "            signs = [1 if i % 2 == 0 else -1 for i in range(len(path))]\n",
    "            quantities = [DQ[i, j] for i, j in path]\n",
    "            \n",
    "            # Check for negative zero quantities\n",
    "            for index, sign, quantity in zip(path, signs, quantities):\n",
    "                if sign == -1 and quantity == 0:\n",
    "                    # Select another artificial quantity\n",
    "                    blacklist.append(index)\n",
    "                    invalid_artval = True\n",
    "                    break\n",
    "                    \n",
    "            if invalid_artval:\n",
    "                continue\n",
    "            \n",
    "            # Choose maximum allowed quantity to be subtracted\n",
    "            maxq = min(map(lambda x: x[1], filter(lambda x: x[0] < 0, zip(signs, quantities))))\n",
    "            \n",
    "            # Reallocate quantities\n",
    "            for index, sign, quantity in zip(path, signs, quantities):\n",
    "                DQ[index] += sign * maxq\n",
    "                if DQ[index] == 0:\n",
    "                    DQ[index] = np.nan\n",
    "        \n",
    "            # New feasable solution found\n",
    "            Q = DQ\n",
    "            blacklist = []\n",
    "            \n",
    "    DQ = np.nan_to_num(DQ)\n",
    "    return DQ, np.sum(DQ * C)"
   ]
  },
  {
   "cell_type": "code",
   "execution_count": 85,
   "metadata": {
    "collapsed": true
   },
   "outputs": [],
   "source": [
    "C = np.array([\n",
    "    [4, 5, 13],\n",
    "    [12, 9, 11],\n",
    "    [6, 14, 10],\n",
    "    [30, 43, 30]\n",
    "])\n",
    "supply = [45, 25, 30, 15]\n",
    "demand = [55, 25, 35]"
   ]
  },
  {
   "cell_type": "code",
   "execution_count": 90,
   "metadata": {},
   "outputs": [
    {
     "data": {
      "text/plain": [
       "(array([[ 25.,  20.,   0.],\n",
       "        [  0.,   5.,  20.],\n",
       "        [ 30.,   0.,   0.],\n",
       "        [  0.,   0.,  15.]]), 1095.0)"
      ]
     },
     "execution_count": 90,
     "metadata": {},
     "output_type": "execute_result"
    }
   ],
   "source": [
    "MODI(C, supply, demand)"
   ]
  },
  {
   "cell_type": "markdown",
   "metadata": {},
   "source": [
    "#### Usable links"
   ]
  },
  {
   "cell_type": "markdown",
   "metadata": {},
   "source": [
    "- Solve Transportation Problem online: http://cbom.atozmath.com/CBOM/Transportation.aspx?q=modi\n",
    "- MODI illustration: http://zoomin.idt.mdh.se/course/kpp227/Documents/MODI.pdf"
   ]
  },
  {
   "cell_type": "markdown",
   "metadata": {
    "collapsed": true
   },
   "source": [
    "# Traveling Salesman Problem\n",
    "Given a list of cities and the distances between each pair of cities, what is the shortest possible route that visits each city and returns to the origin city?"
   ]
  },
  {
   "cell_type": "markdown",
   "metadata": {},
   "source": [
    "## Construction Heuristics\n",
    "A heuristic is a technique designed for solving a problem more quickly when classic methods are too slow."
   ]
  },
  {
   "cell_type": "markdown",
   "metadata": {},
   "source": [
    "### Nearest Unvisited Neighbor Heuristic\n",
    "The nearest neighbour (NN) algorithm (greedy algorithm) lets the salesman choose the nearest unvisited city as his next move. This algorithm quickly yields an effectively short route. For N cities randomly distributed on a plane, the algorithm on average yields a path 25% longer than the shortest possible path."
   ]
  },
  {
   "cell_type": "code",
   "execution_count": 10,
   "metadata": {
    "collapsed": true
   },
   "outputs": [],
   "source": [
    "import numpy as np\n",
    "\n",
    "def get_edges(route):\n",
    "    return list(zip(route, route[1:]))\n",
    "\n",
    "def length(D, route):\n",
    "    edges = get_edges(route)\n",
    "    return np.sum([D[e[0], e[1]] for e in edges])"
   ]
  },
  {
   "cell_type": "code",
   "execution_count": 11,
   "metadata": {
    "collapsed": true
   },
   "outputs": [],
   "source": [
    "def NN(D, start):\n",
    "    route = [start]\n",
    "    i = start\n",
    "    while len(route) < len(D[0]):\n",
    "        min_d = D[i, :].max() # initial value, must be non-zero\n",
    "        min_j = D[i, :].argmax()\n",
    "        for j, d in enumerate(D[i, :]):\n",
    "            if j != i and j not in route and d < min_d:\n",
    "                min_d = d\n",
    "                min_j = j\n",
    "        route.append(min_j)\n",
    "        i = min_j\n",
    "    route.append(start)\n",
    "    return route, length(D, route)"
   ]
  },
  {
   "cell_type": "code",
   "execution_count": 12,
   "metadata": {
    "collapsed": true
   },
   "outputs": [],
   "source": [
    "def symmetrize(D):\n",
    "    return D + D.T - np.diag(D.diagonal())\n",
    "\n",
    "init_solution = [0, 2, 4, 1, 3, 5, 7, 6, 0]\n",
    "D = np.array([\n",
    "    [0, 4, 3, 4, 4, 7, 8, 8],\n",
    "    [0, 0, 2, 6, 3, 6, 8, 7],\n",
    "    [0, 0, 0, 4, 1, 4, 6, 5],\n",
    "    [0, 0, 0, 0, 5, 4, 4, 5],\n",
    "    [0, 0, 0, 0, 0, 3, 5, 4],\n",
    "    [0, 0, 0, 0, 0, 0, 3, 2],\n",
    "    [0, 0, 0, 0, 0, 0, 0, 1],\n",
    "    [0, 0, 0, 0, 0, 0, 0, 0]\n",
    "])\n",
    "D = symmetrize(D)"
   ]
  },
  {
   "cell_type": "code",
   "execution_count": 13,
   "metadata": {},
   "outputs": [
    {
     "data": {
      "text/plain": [
       "([0, 2, 4, 1, 3, 5, 7, 6, 0], 28)"
      ]
     },
     "execution_count": 13,
     "metadata": {},
     "output_type": "execute_result"
    }
   ],
   "source": [
    "NN(D, 0)"
   ]
  },
  {
   "cell_type": "markdown",
   "metadata": {},
   "source": [
    "### Insertion Heuristics\n",
    "An intuitive approach to the TSP is to start with a subtour, i.e. a tour on small subsets of nodes, and then extend this tour by inserting the remaining nodes one after the other until all nodes have been inserted. The major difference between insertion schemes is the order in which the nodes are inserted."
   ]
  },
  {
   "cell_type": "code",
   "execution_count": 14,
   "metadata": {
    "collapsed": true
   },
   "outputs": [],
   "source": [
    "def insertion(D):\n",
    "    route = []\n",
    "    for i in range(len(D)):\n",
    "        if i == 0:\n",
    "            route.append(0)\n",
    "        elif i == 1:\n",
    "            route.append(1)\n",
    "            route.append(0)\n",
    "        else:\n",
    "            routes = []\n",
    "            for j in range(1, len(route)-1):\n",
    "                temp_route = route.copy()\n",
    "                temp_route.insert(j, i)\n",
    "                routes.append(temp_route)\n",
    "            route = sorted(routes, key=lambda x: length(D, x))[0]\n",
    "    return route, length(D, route)"
   ]
  },
  {
   "cell_type": "code",
   "execution_count": 15,
   "metadata": {},
   "outputs": [
    {
     "data": {
      "text/plain": [
       "([0, 3, 6, 7, 5, 4, 2, 1, 0], 21)"
      ]
     },
     "execution_count": 15,
     "metadata": {},
     "output_type": "execute_result"
    }
   ],
   "source": [
    "insertion(D)"
   ]
  },
  {
   "cell_type": "markdown",
   "metadata": {},
   "source": [
    "## Improvement Heuristics"
   ]
  },
  {
   "cell_type": "markdown",
   "metadata": {},
   "source": [
    "### The pairwise exchange or 2-opt heuristic\n",
    "The pairwise exchange or 2-opt technique involves iteratively removing two edges and replacing these with two different edges that reconnect the fragments created by edge removal into a new and shorter tour. This is a special case of the k-opt method. Simple explained: The main idea behind it is to take a route that crosses over itself and reorder it so that it does not.\n",
    "<img src=\"https://computingcore.files.wordpress.com/2013/04/kopt.png\"/ width=\"600px\">"
   ]
  },
  {
   "cell_type": "markdown",
   "metadata": {},
   "source": [
    "#### Example"
   ]
  },
  {
   "cell_type": "code",
   "execution_count": 16,
   "metadata": {
    "collapsed": true
   },
   "outputs": [],
   "source": [
    "def _2opt(route, edges):\n",
    "    e1, e2 = edges\n",
    "    return route[:e1+1] + route[e1+1:e2+1][::-1] + route[e2+1:]"
   ]
  },
  {
   "cell_type": "code",
   "execution_count": 17,
   "metadata": {},
   "outputs": [
    {
     "data": {
      "text/plain": [
       "['A', 'H', 'G', 'F', 'E', 'D', 'C', 'B', 'A']"
      ]
     },
     "execution_count": 17,
     "metadata": {},
     "output_type": "execute_result"
    }
   ],
   "source": [
    "route = ['A', 'B', 'C', 'D', 'E', 'F', 'G', 'H', 'A']\n",
    "_2opt(route, [0, 7])"
   ]
  },
  {
   "cell_type": "markdown",
   "metadata": {},
   "source": [
    "## Chinese Postman Problem\n",
    "All edges (not nodes) of a network have to be visited. Solving methods include transformation into an asymmetric TSP."
   ]
  },
  {
   "cell_type": "markdown",
   "metadata": {},
   "source": [
    "## Cost allocation: Shapley Value (game theory)\n",
    "The solution, known as the Shapley value, has a nice interpretation in terms of expected marginal contribution. It is calculated by considering all the possible orders of arrival of the players into a game and giving each player his marginal contribution."
   ]
  },
  {
   "cell_type": "markdown",
   "metadata": {},
   "source": [
    "1. Calculate worth of \n",
    "    - individual players $\\{A\\},\\{B\\},\\{C\\}$\n",
    "    - their coalitions $S\\in\\{AB\\},\\{AC\\},\\{BC\\},\\{ABC\\}$\n",
    "2. For all permutations, calculate the marginal contribution of each player\n",
    "3. For each player, calculate the expected marginal contribution\n",
    "\n",
    "| Permutation | A | B | C |\n",
    "|-|-|-|-|\n",
    "| ABC | v({A}) | v({AB}) - v({A}) | v({ABC}) - v({AB}) |\n",
    "| ACB | v({A}) | v({ABC}) - v({AC}) | v({AC}) - v({A}) |\n",
    "| BAC | v({AB}) - v({A}) | v({B}) | v({ABC}) - v({AB}) |\n",
    "| BCA | v({ABC}) - v({BC}) | v({B}) | v({BC}) - v({B}) |\n",
    "| CAB | v({AC}) - v({C}) | v({ABC}) - v({AC}) | v({C}) |\n",
    "| CBA | v({ABC}) - v({BC}) | v({BC}) - v({C}) | v({C}) |"
   ]
  },
  {
   "cell_type": "markdown",
   "metadata": {},
   "source": [
    "- Good example: http://faculty.econ.ucdavis.edu/faculty/bonanno/teaching/122/Shapley.pdf"
   ]
  },
  {
   "cell_type": "code",
   "execution_count": 82,
   "metadata": {
    "collapsed": true
   },
   "outputs": [],
   "source": [
    "import itertools\n",
    "from collections import defaultdict\n",
    "import pandas as pd\n",
    "\n",
    "def shapley(D):\n",
    "    players = list(range(1, len(D)))\n",
    "    # Calculate worth of each player and coalition\n",
    "    worth = {}\n",
    "    for i in range(1, len(D)):\n",
    "        for perm in itertools.permutations(players, i):\n",
    "            # Worth doesn't depend on order within a coalition (= symmetry property)\n",
    "            perm_set = tuple(set(perm))\n",
    "            perm_len = length(D, [0] + list(perm) + [0])\n",
    "            if perm_set not in worth:\n",
    "                worth[perm_set] = perm_len\n",
    "            elif perm_len < worth[perm_set]:\n",
    "                # The worth of each coalition is the minimum distance covered within this coalition\n",
    "                worth[perm_set] = perm_len\n",
    "\n",
    "    # Calculate the expected marginal contribution of each player\n",
    "    contributions = defaultdict(dict)\n",
    "    for perm in itertools.permutations(players):\n",
    "        for i, player in enumerate(perm):\n",
    "            coalition = tuple(set(perm[:i + 1]))\n",
    "            contributions[tuple(perm)][player] = worth[coalition]\n",
    "            if i > 0:\n",
    "                prev_coalition = tuple(set(perm[:i]))\n",
    "                contributions[tuple(perm)][player] -= worth[prev_coalition]\n",
    "\n",
    "    df = pd.DataFrame(list(contributions.values()), index=list(contributions.keys()))\n",
    "    return df.mean().to_dict()"
   ]
  },
  {
   "cell_type": "code",
   "execution_count": 83,
   "metadata": {
    "collapsed": true
   },
   "outputs": [],
   "source": [
    "D = np.array([\n",
    "    [0, 11, 18, 18],\n",
    "    [8, 0, 7, 10],\n",
    "    [18, 9, 0, 8],\n",
    "    [20, 10, 11, 0]\n",
    "])"
   ]
  },
  {
   "cell_type": "code",
   "execution_count": 84,
   "metadata": {},
   "outputs": [
    {
     "data": {
      "text/plain": [
       "{1: 5.166666666666667, 2: 18.666666666666668, 3: 20.166666666666668}"
      ]
     },
     "execution_count": 84,
     "metadata": {},
     "output_type": "execute_result"
    }
   ],
   "source": [
    "shapley(D)"
   ]
  },
  {
   "cell_type": "markdown",
   "metadata": {
    "collapsed": true
   },
   "source": [
    "# Vehicle Routing Problem\n",
    "Extension of TSP by adding capacity constraints. Let there be number of demand points in a given area, each demanding an quantity of goods to be delivered to it. The goods in question are stored at a depot, where a fleet of vehicles is also stationed. Vehicles have identical maximum weight capacities and maximum routetime (or distance) constraints. They must all start and finish their routes at the depot. The problem is to obtain a set of delivery routes from the depot to the various demand points to minimize the total distance covered by the entire fleet."
   ]
  },
  {
   "cell_type": "markdown",
   "metadata": {
    "collapsed": true
   },
   "source": [
    "## Heuristics"
   ]
  },
  {
   "cell_type": "markdown",
   "metadata": {},
   "source": [
    "### 1. Route, 2. Cluster: TSP and revisit\n",
    "Determine a tour without capacity constraints (TSP). Then go back to depot if the next customer cannot be visited with given capacity."
   ]
  },
  {
   "cell_type": "markdown",
   "metadata": {},
   "source": [
    "1. Optimal TSP solution\n",
    "    - A => B => C => D => E => F => G => H => A\n",
    "2. Clustering (length of each route can vary based on capacity constraints)\n",
    "    - A => B => C => A\n",
    "    - A => D => E => A\n",
    "    - A => F => G => A\n",
    "    - A => H => A"
   ]
  },
  {
   "cell_type": "markdown",
   "metadata": {},
   "source": [
    "### 1. Cluster, 2. Route: Sweep method\n",
    "Representation of customers in sequence of their polar coordinates.\n",
    "<img src=\"http://images.slideplayer.com/15/4540330/slides/slide_5.jpg\" width=\"500px\">"
   ]
  },
  {
   "cell_type": "code",
   "execution_count": 20,
   "metadata": {
    "collapsed": true
   },
   "outputs": [],
   "source": [
    "import math\n",
    "\n",
    "def sweep_method(XY, D, max_size):\n",
    "    \"\"\"\n",
    "    XY: Matrix of customer locations on a map or grid\n",
    "    D: distance matrix\n",
    "    max_size: maximum cluster size\n",
    "    \"\"\"\n",
    "    X, Y = zip(*XY)\n",
    "    # Sort customers by angle between them and depot (counterclockwise)\n",
    "    degrees = np.arctan2(Y[1:] - Y[0], X[1:] - X[0]) * 180 / np.pi\n",
    "    degrees[degrees < 0] += 360\n",
    "    \n",
    "    clusters = []\n",
    "    for i, _ in sorted(zip(range(1, len(XY)), degrees), key=lambda x: x[1]):\n",
    "        if len(clusters) == 0:\n",
    "            # First cluster\n",
    "            clusters.append([0, i, 0])\n",
    "        else:\n",
    "            if len(clusters[-1]) == max_size + 2: # + 2x depot\n",
    "                # Finish the cluster if constraints exceeeded\n",
    "                clusters.append([0, i, 0])\n",
    "            else:\n",
    "                # Append new customer to the last cluster\n",
    "                cluster = clusters[-1]\n",
    "                cluster.insert(len(cluster) - 1, i)\n",
    "                \n",
    "                # Calculate the optimal TSP solution for the given cluster\n",
    "                opt_edges = len(cluster) - 4, len(cluster) - 2\n",
    "                opt_cluster = _2opt(cluster, opt_edges)\n",
    "                if length(D, opt_cluster) < length(D, cluster):\n",
    "                    clusters[-1] = opt_cluster\n",
    "                    \n",
    "    return [(cluster, length(D, cluster)) for cluster in clusters]"
   ]
  },
  {
   "cell_type": "code",
   "execution_count": 21,
   "metadata": {
    "collapsed": true
   },
   "outputs": [],
   "source": [
    "XY = np.array([\n",
    "    [0, 0],\n",
    "    [2, 0],\n",
    "    [-1, 1],\n",
    "    [1, 2],\n",
    "    [-2, 2],\n",
    "    [1, -2]\n",
    "])\n",
    "D = np.array([\n",
    "    [0, 22, 36, 36, 50, 28],\n",
    "    [22, 0, 14, 20, 58, 50],\n",
    "    [36, 14, 0, 14, 63, 64],\n",
    "    [36, 20, 14, 0, 51, 64],\n",
    "    [50, 58, 63, 51, 0, 60],\n",
    "    [28, 50, 64, 64, 60, 0]\n",
    "])"
   ]
  },
  {
   "cell_type": "code",
   "execution_count": 22,
   "metadata": {},
   "outputs": [
    {
     "data": {
      "text/plain": [
       "[([0, 1, 2, 3, 0], 86), ([0, 4, 5, 0], 138)]"
      ]
     },
     "execution_count": 22,
     "metadata": {},
     "output_type": "execute_result"
    }
   ],
   "source": [
    "sweep_method(XY, D, 3)"
   ]
  },
  {
   "cell_type": "markdown",
   "metadata": {},
   "source": [
    "### Route + Cluster simultaniously: Savings method\n",
    "By far the best-known approach to the VRP problem is the \"savings\" algorithm of Clarke and Wright.\n",
    "<img src=\"http://www.jtscm.co.za/index.php/jtscm/article/viewFile/90/89/322\">\n",
    "\n",
    "- Detailed description: http://ieor.berkeley.edu/~ieor151/lecture_notes/ieor151_lec18.pdf"
   ]
  },
  {
   "cell_type": "code",
   "execution_count": 23,
   "metadata": {
    "collapsed": true
   },
   "outputs": [],
   "source": [
    "import itertools\n",
    "\n",
    "def savings_method(D, max_size):\n",
    "    \"\"\"\n",
    "    D: distance matrix\n",
    "    max_size: maximum cluster size\n",
    "    \"\"\"\n",
    "    customers = list(range(1, len(D)))\n",
    "    commutes = {}\n",
    "    for c in customers:\n",
    "        # Commute from depot to customer and back to depot\n",
    "        commutes[c] = length(D, [0] + [c] + [0])\n",
    "    \n",
    "    perms = itertools.permutations(customers, 2)\n",
    "    savings = []\n",
    "    for perm in perms:\n",
    "        c1, c2 = perm\n",
    "        d1 = commutes[c1]\n",
    "        d2 = commutes[c2]\n",
    "        # Commute from depot to customer c1 to customer c2 and back to depot\n",
    "        d = length(D, [0] + [c1, c2] + [0])\n",
    "        # The distance we save by linking two customers together\n",
    "        saving = d1 + d2 - d\n",
    "        savings.append((perm, saving))\n",
    "    ordered = sorted(savings, key=lambda x: x[1], reverse=True)\n",
    "\n",
    "    clusters = []\n",
    "    # Starting from the top of the list, build clusters of customers\n",
    "    for c1, c2 in list(zip(*ordered))[0]:\n",
    "        if len(clusters) == 0:\n",
    "            # First cluster\n",
    "            clusters.append([c1, c2])\n",
    "        else:\n",
    "            new_cluster = True\n",
    "            for cluster in clusters:\n",
    "                if c1 in cluster and c2 in cluster:\n",
    "                    # If both already in cluster, ignore\n",
    "                    new_cluster = False\n",
    "                    break\n",
    "                elif c1 in cluster or c2 in cluster:\n",
    "                    # Proceed if the operation satisfies the size constraints\n",
    "                    # Check for further constraints here\n",
    "                    if len(cluster) < max_size:\n",
    "                        # Customer can be added either on beginning or end\n",
    "                        if c1 in cluster and c1 == cluster[-1]:\n",
    "                            cluster.append(c2)\n",
    "                        elif c2 in cluster and c2 == cluster[0]:\n",
    "                            cluster.insert(0, c1)\n",
    "                    new_cluster = False\n",
    "                    break\n",
    "\n",
    "            if new_cluster:\n",
    "                # If there is no cluster with either c1 or c2, create new\n",
    "                clusters.append([c1, c2])\n",
    "    \n",
    "    # Check whether all customers classified\n",
    "    classified = set([c for cluster in clusters for c in cluster])\n",
    "    for c in customers:\n",
    "        if c not in classified:\n",
    "            clusters.append([c])\n",
    "    \n",
    "    # Build routes by connecting customes to depot\n",
    "    routes = [[0] + cluster + [0] for cluster in clusters]\n",
    "    return [(route, length(D, route)) for route in routes]"
   ]
  },
  {
   "cell_type": "code",
   "execution_count": 24,
   "metadata": {},
   "outputs": [
    {
     "data": {
      "text/plain": [
       "[([0, 5, 1, 2, 0], 59), ([0, 3, 4, 0], 34)]"
      ]
     },
     "execution_count": 24,
     "metadata": {},
     "output_type": "execute_result"
    }
   ],
   "source": [
    "D = np.array([\n",
    "    [0, 20, 10, 14, 8, 16],\n",
    "    [20, 0, 12, 22, 22, 21],\n",
    "    [10, 12, 0, 10, 7, 19],\n",
    "    [14, 22, 10, 0, 12, 29],\n",
    "    [8, 22, 7, 12, 0, 16],\n",
    "    [16, 21, 19, 29, 16, 0]\n",
    "])\n",
    "\n",
    "savings_method(D, 3)"
   ]
  },
  {
   "cell_type": "markdown",
   "metadata": {},
   "source": [
    "# Metaheuristics for TSP\n",
    "Heuristics are often problem-dependent, that is, you define an heuristic for a given problem. Meta-heuristics are problem-independent techniques that can be applied to a broad range of problems."
   ]
  },
  {
   "cell_type": "markdown",
   "metadata": {},
   "source": [
    "Advantages:\n",
    "- Finding fast solutions\n",
    "- General solution procedures\n",
    "\n",
    "Disadvantages:\n",
    "- No guarantee of finding the optimum\n",
    "- No measurement of solution quality"
   ]
  },
  {
   "cell_type": "markdown",
   "metadata": {},
   "source": [
    "## Simulated Annealing\n",
    "It is a metaheuristic to approximate global optimization in a large search space. It is often used when the search space is discrete (e.g., all tours that visit a given set of cities). For problems where finding an approximate global optimum is more important than finding a precise local optimum in a fixed amount of time, simulated annealing may be preferable to alternatives such as gradient descent.\n",
    "<img src=\"https://image.slidesharecdn.com/part2letterassignment-150624063825-lva1-app6892/95/modelbased-user-interface-optimization-part-ii-letter-assignment-at-sicsa-summer-school-on-computational-interaction-2015-48-638.jpg?cb=1435128014\" width=\"500px\">\n",
    "\n",
    "**Sometimes things really do have to get worse before they can get better.**\n",
    "\n",
    "- Interactive example: http://toddwschneider.com/posts/traveling-salesman-with-simulated-annealing-r-and-shiny/\n",
    "- Generic implementation: https://github.com/chncyhn/simulated-annealing-tsp/blob/master/anneal.py"
   ]
  },
  {
   "cell_type": "code",
   "execution_count": 25,
   "metadata": {
    "collapsed": true
   },
   "outputs": [],
   "source": [
    "def simulated_annealing(D, alpha, stop_it):\n",
    "    \"\"\"\n",
    "    D: distance matrix\n",
    "    alpha: temperature cooling rate\n",
    "    stop_it: iteration to stop at\n",
    "    \"\"\"\n",
    "    \n",
    "    # Create the initial feasable solution. (e.g. NN)\n",
    "    x, x_len = NN(D, 0)\n",
    "    T = np.sqrt(x_len)\n",
    "    X = []\n",
    "    \n",
    "    for i in range(stop_it):\n",
    "        # Pick a new candidate tour at random from all neighbors of the existing tour.\n",
    "        e1 = np.random.choice(range(len(x)-3)) # swap of minimum two nodes\n",
    "        e2 = np.random.choice(range(e1, len(x)-1))\n",
    "        opt_edges = [e1, e2]\n",
    "        route = _2opt(x, opt_edges)\n",
    "        l = length(D, route)\n",
    "        delta = l - length(D, x)\n",
    "\n",
    "        if delta <= 0:\n",
    "            # If the candidate tour is better than the existing tour, accept it as the new tour\n",
    "            x = route\n",
    "            X.append(x)\n",
    "        else:\n",
    "            # If the candidate tour is worse than the existing tour, still maybe accept it, \n",
    "            # according to some probability. The probability of accepting an inferior tour \n",
    "            # is a function of how much longer the candidate is compared to the current tour, \n",
    "            # and the temperature of the annealing process. A higher temperature makes you \n",
    "            # more likely to accept an inferior tour.\n",
    "            rand = np.random.random()\n",
    "            p = np.exp(-delta/T)\n",
    "            if rand < p:\n",
    "                x = route\n",
    "                X.append(x)\n",
    "            \n",
    "        # Cool down the temperature\n",
    "        T *= alpha\n",
    "    \n",
    "    # Return the best solution found so far\n",
    "    best = sorted(X, key=lambda x: length(D, x))[0]\n",
    "    return best, length(D, best)"
   ]
  },
  {
   "cell_type": "code",
   "execution_count": 26,
   "metadata": {},
   "outputs": [
    {
     "data": {
      "text/plain": [
       "([0, 2, 1, 5, 4, 3, 0], 85)"
      ]
     },
     "execution_count": 26,
     "metadata": {},
     "output_type": "execute_result"
    }
   ],
   "source": [
    "simulated_annealing(D, 0.995, 100)"
   ]
  },
  {
   "cell_type": "markdown",
   "metadata": {},
   "source": [
    "## Tabu Search\n",
    "The objective for the Tabu Search algorithm is to constrain from returning to recently visited areas of the search space, referred to as cycling. \n",
    "<img src=\"https://image.slidesharecdn.com/part2letterassignment-150624063825-lva1-app6892/95/modelbased-user-interface-optimization-part-ii-letter-assignment-at-sicsa-summer-school-on-computational-interaction-2015-46-638.jpg?cb=1435128014\" width=\"500px\">"
   ]
  },
  {
   "cell_type": "code",
   "execution_count": 27,
   "metadata": {
    "collapsed": true
   },
   "outputs": [],
   "source": [
    "def tabu_search(D, nb_size, t_size, stop_it):\n",
    "    \"\"\"\n",
    "    D: distance matrix\n",
    "    nb_size: neighborhood size\n",
    "    t_size: maximum Tabu list size\n",
    "    stop_it: iteration to stop at\n",
    "    \"\"\"\n",
    "    \n",
    "    # Generate starting solution (e.g. using NN)\n",
    "    x, _ = NN(D, 0)\n",
    "    X = []\n",
    "    T = []\n",
    "    \n",
    "    for i in range(stop_it):\n",
    "        # At each step, look for the best solution in the neighborhood\n",
    "        # A neighborhood to a given solution is defined as any other solution that \n",
    "        # is obtained by a pair wise exchange of any two nodes in the solution\n",
    "        NB = []\n",
    "        for j in range(nb_size):\n",
    "            # Generate random opt2-operation\n",
    "            e1 = np.random.choice(range(len(x)-3)) # swap of minimum two nodes\n",
    "            e2 = np.random.choice(range(e1, len(x)-1))\n",
    "            opt_edges = [e1, e2]\n",
    "            route = _2opt(x, opt_edges)\n",
    "            l = length(D, route)\n",
    "\n",
    "            # To prevent the process from cycling in a small set of solutions, some attribute \n",
    "            # (pair of exchanged nodes) of recently visited solutions is stored in a Tabu List\n",
    "            if opt_edges not in T:\n",
    "                NB.append((opt_edges, route, l))\n",
    "                \n",
    "        # Choose the best neighbor\n",
    "        opt_edges, route, l = sorted(NB, key=lambda n: n[2])[0]\n",
    "        \n",
    "        # Update only if new candidate better than the last candidate\n",
    "        delta = l - length(D, x)\n",
    "        if delta <= 0:\n",
    "            x = route\n",
    "            X.append(x)\n",
    "            # Add the feature of the best candidate to the Tabu list\n",
    "            T.append(opt_edges)\n",
    "            # Pop first element of Tabu list if maximum size exceeded\n",
    "            if len(T) > t_size:\n",
    "                T = T[1:]\n",
    "    \n",
    "    # Return the best solution found so far\n",
    "    best = sorted(X, key=lambda x: length(D, x))[0]\n",
    "    return best, length(D, best)"
   ]
  },
  {
   "cell_type": "code",
   "execution_count": 28,
   "metadata": {},
   "outputs": [
    {
     "data": {
      "text/plain": [
       "([0, 4, 3, 2, 1, 5, 0], 79)"
      ]
     },
     "execution_count": 28,
     "metadata": {},
     "output_type": "execute_result"
    }
   ],
   "source": [
    "tabu_search(D, 3, 3, 100)"
   ]
  },
  {
   "cell_type": "markdown",
   "metadata": {},
   "source": [
    "## Genetic Algorithm\n",
    "Genetic algorithms are commonly used to generate high-quality solutions to optimization and search problems by relying on bio-inspired operators such as mutation, crossover and selection. \n",
    "<img src=\"https://media.nature.com/lw926/nature-assets/srep/2016/161121/srep37616/images_hires/srep37616-f3.jpg\" width=\"500px\">\n",
    "\n",
    "- GA application on TSP: https://iccl.inf.tu-dresden.de/w/images/b/b7/GA_for_TSP.pdf\n",
    "- Generic implementation: https://gist.github.com/josephmisiti/940cee03c97f031188ba7eac74d03a4f"
   ]
  },
  {
   "cell_type": "code",
   "execution_count": 29,
   "metadata": {
    "collapsed": true
   },
   "outputs": [],
   "source": [
    "def encode_tour(tour):\n",
    "    # The mutation operator and the one-point crossover are likely to generate infeasible tours.\n",
    "    # The TSP, as opposed to most problems tackled by genetic algorithms, is a pure ordering problem.\n",
    "    # Namely, all chromosomes carry exactly the same values and differ only in the ordering of these values.\n",
    "    # This implementation focuses on the relative order of the nodes to tacke this problem.\n",
    "        \n",
    "    tour = tour.copy()[:-1] # not include last (= first) value\n",
    "    encoded = []\n",
    "    # For each element in tour, order list starting from this element and save its index\n",
    "    for i, node in enumerate(tour):\n",
    "        encoded.append(sorted(tour[i:]).index(node))\n",
    "    # Returns list of indices\n",
    "    return encoded\n",
    "\n",
    "def subtract(x, y):\n",
    "    return [item for item in x if item not in y]\n",
    "\n",
    "def decode_tour(encoded):\n",
    "    ordered = range(len(encoded))\n",
    "    decoded = []\n",
    "    # For each index, find a non-repeating value corresponding to this index\n",
    "    # from ordered list of all possible values\n",
    "    for i, node in enumerate(encoded):\n",
    "        remaining = subtract(range(len(encoded)), decoded)\n",
    "        decoded.append(remaining[node])\n",
    "    decoded.append(decoded[0]) # append last (= first) value\n",
    "    return decoded"
   ]
  },
  {
   "cell_type": "code",
   "execution_count": 30,
   "metadata": {
    "collapsed": true
   },
   "outputs": [],
   "source": [
    "def random_population(n, m):\n",
    "    # The process begins with a set of individuals which is called a Population. \n",
    "    # An individual is characterized by a set of parameters (variables) known as Genes. \n",
    "    # Genes are joined into a string to form a Chromosome (solution).\n",
    "    \n",
    "    # Generate random population with shape (N, M)\n",
    "    P = []\n",
    "    for i in range(n):\n",
    "        ind = list(range(m - 1))\n",
    "        np.random.shuffle(ind)\n",
    "        ind.append(ind[0])\n",
    "        P.append(ind)\n",
    "    return P\n",
    "\n",
    "def fitness(D, P):\n",
    "    # The fitness of the chromosome is related to the tour length, which in turn \n",
    "    # depends on the ordering of the nodes. Since the TSP is a minimization problem, \n",
    "    # the tour lengths must be transformed so that high fitness values are associated \n",
    "    # with short tours. A well-known approach is to subtract each tour length to the \n",
    "    # maximum tour length found in the current population.\n",
    "    \n",
    "    values = np.array([length(D, p) for p in P])\n",
    "    values = np.max(values) - values\n",
    "    return sorted(zip(P, values), key=lambda x: x[1], reverse=True)\n",
    "\n",
    "def weighted_select(D, P):\n",
    "    # Two pairs of individuals (parents) are selected based on their fitness scores. \n",
    "    # The probability that an individual will be selected for reproduction is based \n",
    "    # on its fitness score. Individuals with high fitness have more chance to be \n",
    "    # selected for reproduction.\n",
    "    \n",
    "    F = fitness(D, P)\n",
    "    _, fitness_values = zip(*F)\n",
    "    fvsum = np.sum(fitness_values)\n",
    "    weights = [fv / fvsum for fv in fitness_values]\n",
    "    indices = np.random.choice(np.arange(0, len(P)), 2, p=weights, replace=False)\n",
    "    return F[indices[0]][0], F[indices[1]][0]\n",
    "\n",
    "def crossover(p1, p2):\n",
    "    # For each pair of parents to be mated, a crossover point is chosen at random \n",
    "    # from within the genes. Offspring are created by exchanging the genes of parents \n",
    "    # among themselves until the crossover point is reached.\n",
    "        \n",
    "    # Generate two new individuals by a random crossover\n",
    "    cut = np.random.choice(range(1, len(p1)))\n",
    "    return p1[:cut] + p2[cut:], p2[:cut] + p1[cut:]\n",
    "\n",
    "def mutate(ind, p):\n",
    "    # In certain new offspring formed, some of their genes can be subjected to a \n",
    "    # mutation with a low random probability. Mutation occurs to maintain diversity \n",
    "    # within the population and prevent premature convergence.\n",
    "        \n",
    "    # Mutate each gene with certain probability\n",
    "    mutated = []\n",
    "    for i in range(len(ind)):\n",
    "        if np.random.random() <= p:\n",
    "            # Consider each gen as an index in encoded individual\n",
    "            # The more to the right, the less an index can be\n",
    "            allowed_len = len(ind)-len(mutated)\n",
    "            mutated.append(np.random.choice(range(allowed_len)))\n",
    "        else:\n",
    "            mutated.append(ind[i])\n",
    "    return mutated"
   ]
  },
  {
   "cell_type": "code",
   "execution_count": 31,
   "metadata": {
    "collapsed": true
   },
   "outputs": [],
   "source": [
    "def genetic_algorithm(D, n, p, stop_it):\n",
    "    \"\"\"\n",
    "    D: distance matrix\n",
    "    n: number of individuals in initial random population\n",
    "    p: mutation probability\n",
    "    stop_it: iteration to stop at\n",
    "    \"\"\"\n",
    "    \n",
    "    # Generate population\n",
    "    P = random_population(n, len(D))\n",
    "    \n",
    "    for i in range(stop_it):\n",
    "        # New generation\n",
    "        \n",
    "        # Select\n",
    "        p1, p2 = weighted_select(D, P)\n",
    "\n",
    "        # Encode\n",
    "        p1 = encode_tour(p1)\n",
    "        p2 = encode_tour(p2)\n",
    "        \n",
    "        # Crossover\n",
    "        c1, c2 = crossover(p1, p2)\n",
    "        \n",
    "        # Mutate\n",
    "        c1 = mutate(c1, p)\n",
    "        c2 = mutate(c2, p)\n",
    "            \n",
    "        # Decode\n",
    "        c1 = decode_tour(c1)\n",
    "        c2 = decode_tour(c2)\n",
    "        \n",
    "        # Add to the Population\n",
    "        P.append(c1)\n",
    "        P.append(c2)\n",
    "        \n",
    "    # Return the best solution found so far\n",
    "    best = sorted(P, key=lambda p: length(D, p))[0]\n",
    "    return best, length(D, best)"
   ]
  },
  {
   "cell_type": "code",
   "execution_count": 32,
   "metadata": {},
   "outputs": [
    {
     "data": {
      "text/plain": [
       "([0, 1, 2, 3, 4, 0], 62)"
      ]
     },
     "execution_count": 32,
     "metadata": {},
     "output_type": "execute_result"
    }
   ],
   "source": [
    "genetic_algorithm(D, 10, 0.01, 100)"
   ]
  },
  {
   "cell_type": "markdown",
   "metadata": {
    "collapsed": true
   },
   "source": [
    "# Transportation Networks\n",
    "Transportation networks generally refer to a set of links, nodes, and lines that represent the infrastructure or supply side of the transportation. The links have characteristics such as speed and capacity for roadways; frequency and travel time data are defined on transit links or lines for the transit system."
   ]
  },
  {
   "cell_type": "markdown",
   "metadata": {},
   "source": [
    "## Dynamic Optimization\n",
    "Minimize costs of current decision and the follow-up costs. "
   ]
  },
  {
   "cell_type": "code",
   "execution_count": 33,
   "metadata": {
    "collapsed": true
   },
   "outputs": [],
   "source": [
    "def dynamic_opt(T, H):\n",
    "    \"\"\"\n",
    "    T: matrix of transportation costs (decision, node)\n",
    "    S: matrix of switching costs (from decision, to decision)\n",
    "    \"\"\"\n",
    "    stages = list(range(len(T[0])))\n",
    "    decisions = list(range(len(H)))\n",
    "    CM = np.zeros((len(decisions), len(stages)))\n",
    "    DM = CM.copy()\n",
    "\n",
    "    # Make decisions by going backwards in time\n",
    "    for i, s in enumerate(stages[::-1]):\n",
    "        for d1 in decisions:\n",
    "            costs = []\n",
    "            for d2 in decisions:\n",
    "                # Costs by switching from one decision to another\n",
    "                hcosts = S[d1, d2] if s > 0 else 0\n",
    "                # Transportation costs associated with this decision\n",
    "                tcosts = T[d2, s]\n",
    "                # Follow-up costs associated with this decision\n",
    "                fcosts = CM[d2, s + 1] if i > 0 else 0\n",
    "                costs.append(hcosts + tcosts + fcosts)\n",
    "            # Minimum costs by node and decision\n",
    "            CM[d1, s] = min(costs)\n",
    "            DM[d1, s] = np.array(costs).argmin()\n",
    "    # Return matrix of costs and optimal decisions for each stage\n",
    "    return CM, DM"
   ]
  },
  {
   "cell_type": "code",
   "execution_count": 34,
   "metadata": {
    "collapsed": true
   },
   "outputs": [],
   "source": [
    "T = np.array([\n",
    "    [850, 1600, 800],\n",
    "    [500, 1900, 500]\n",
    "])\n",
    "S = np.array([\n",
    "    [0, 200],\n",
    "    [200, 0]\n",
    "])"
   ]
  },
  {
   "cell_type": "code",
   "execution_count": 35,
   "metadata": {},
   "outputs": [
    {
     "data": {
      "text/plain": [
       "(array([[ 2900.,  2300.,   700.],\n",
       "        [ 2900.,  2400.,   500.]]), array([[ 1.,  0.,  1.],\n",
       "        [ 1.,  1.,  1.]]))"
      ]
     },
     "execution_count": 35,
     "metadata": {},
     "output_type": "execute_result"
    }
   ],
   "source": [
    "dynamic_opt(T, S)"
   ]
  },
  {
   "cell_type": "markdown",
   "metadata": {},
   "source": [
    "## Network Design"
   ]
  },
  {
   "cell_type": "markdown",
   "metadata": {},
   "source": [
    "### Shortest Path: Dijkstra's Algorithm\n",
    "Dijkstra's algorithm is an algorithm for finding the shortest paths between nodes in a graph, which may represent, for example, road networks.\n",
    "<img src=\"http://www.baeldung.com/wp-content/uploads/2017/01/step8.png\" width=\"400px\">\n",
    "- Explanation: https://www.youtube.com/watch?v=UG7VmPWkJmA"
   ]
  },
  {
   "cell_type": "code",
   "execution_count": 36,
   "metadata": {
    "collapsed": true
   },
   "outputs": [],
   "source": [
    "def successors(D, node):\n",
    "    # Find successors of the current node\n",
    "    return [s for s, d in enumerate(D[node]) if d != np.inf and s != node]\n",
    "\n",
    "def shortest_path(D, source, target):\n",
    "    # Find the shortest path from the source to the target\n",
    "    dist = np.array([np.inf] * len(D))\n",
    "    dist[source] = 0\n",
    "    unvisited = list(range(len(D)))\n",
    "    predecessors = {}\n",
    "    \n",
    "    while target in unvisited:\n",
    "        # Choose an unvisited node dith the shortest distance to the source\n",
    "        n1 = unvisited[dist[unvisited].argmin()]\n",
    "        for n2 in successors(D, n1):\n",
    "            if n2 in unvisited:\n",
    "                # For all successors, update the distance to the source\n",
    "                d = D[n1, n2]\n",
    "                if dist[n1] + d < dist[n2]:\n",
    "                    dist[n2] = dist[n1] + d\n",
    "                    # Save the predecessor node\n",
    "                    predecessors[n2] = n1\n",
    "        unvisited.remove(n1)\n",
    "    \n",
    "    # Reconstruct the shortest path\n",
    "    path = [target]\n",
    "    while path[0] in predecessors:\n",
    "        path.insert(0, predecessors[path[0]])\n",
    "    return path, length(D, path)"
   ]
  },
  {
   "cell_type": "code",
   "execution_count": 37,
   "metadata": {
    "collapsed": true
   },
   "outputs": [],
   "source": [
    "D = np.array([\n",
    "    [0, 7, 9, np.inf, np.inf, 14],\n",
    "    [7, 0, 10, 15, np.inf, np.inf],\n",
    "    [9, 10, 0, 11, np.inf, 2],\n",
    "    [np.inf, 15, 11, 0, 6, np.inf],\n",
    "    [np.inf, np.inf, np.inf, 6, 0, 9],\n",
    "    [14, np.inf, 2, np.inf, 9, 0]\n",
    "])"
   ]
  },
  {
   "cell_type": "code",
   "execution_count": 38,
   "metadata": {},
   "outputs": [
    {
     "data": {
      "text/plain": [
       "([0, 2, 5], 11.0)"
      ]
     },
     "execution_count": 38,
     "metadata": {},
     "output_type": "execute_result"
    }
   ],
   "source": [
    "shortest_path(D, 0, 5)"
   ]
  },
  {
   "cell_type": "markdown",
   "metadata": {},
   "source": [
    "### Minimum Spanning Tree: Prim's Algorithm\n",
    "Prim's algorithm is a greedy algorithm that finds a minimum spanning tree for a weighted undirected graph. This means it finds a subset of the edges that forms a tree that includes every vertex, where the total weight of all the edges in the tree is minimized.\n",
    "<img src=\"https://he-s3.s3.amazonaws.com/media/uploads/146b47a.jpg\" width=\"500px\">"
   ]
  },
  {
   "cell_type": "code",
   "execution_count": 39,
   "metadata": {
    "collapsed": true
   },
   "outputs": [],
   "source": [
    "def MST(D):\n",
    "    # Pick a random source node\n",
    "    source = np.random.choice(range(len(D)))\n",
    "    visited = [source]\n",
    "    path = []\n",
    "    \n",
    "    while len(visited) < len(D):\n",
    "        # Aggregate visited nodes as a big single node\n",
    "        # Get all outgoing edges of this node\n",
    "        crossing = []\n",
    "        for n1 in visited:\n",
    "            for n2 in successors(D, n1):\n",
    "                # Successor should be an unknown node\n",
    "                if n2 not in visited:\n",
    "                    crossing.append((n1, n2))\n",
    "        if len(crossing) == 0:\n",
    "            break\n",
    "        # Select the nearest successor\n",
    "        min_edge = sorted(crossing, key=lambda x: D[x[0], x[1]])[0]\n",
    "        path.append(min_edge)\n",
    "        visited.append(min_edge[1])\n",
    "    return path, sum(map(lambda x: length(D, x), path))"
   ]
  },
  {
   "cell_type": "code",
   "execution_count": 40,
   "metadata": {},
   "outputs": [
    {
     "data": {
      "text/plain": [
       "([(5, 2), (5, 4), (4, 3), (2, 0), (0, 1)], 33.0)"
      ]
     },
     "execution_count": 40,
     "metadata": {},
     "output_type": "execute_result"
    }
   ],
   "source": [
    "MST(D)"
   ]
  },
  {
   "cell_type": "markdown",
   "metadata": {},
   "source": [
    "### Max Flow Problem: Ford-Fulkerson Algorithm\n",
    "The idea behind the algorithm is as follows: as long as there is a path from the source (start node) to the sink (end node), with available capacity on all edges in the path, we send flow along one of the paths. Then we find another path, and so on."
   ]
  },
  {
   "cell_type": "markdown",
   "metadata": {
    "collapsed": true
   },
   "source": [
    "- Detailed description: https://www.hackerearth.com/practice/algorithms/graphs/maximum-flow/tutorial/\n",
    "- Video illustration: https://www.youtube.com/watch?v=Tl90tNtKvxs&t=181s\n",
    "- Example: https://www.cs.princeton.edu/courses/archive/spring13/cos423/lectures/07DemoFordFulkerson.pdf"
   ]
  },
  {
   "cell_type": "code",
   "execution_count": 41,
   "metadata": {
    "collapsed": true
   },
   "outputs": [],
   "source": [
    "D = np.array([\n",
    "    [0, 10, 10, np.inf, np.inf, np.inf],\n",
    "    [np.inf, 0, 2, 4, 8, np.inf],\n",
    "    [np.inf, np.inf, 0, np.inf, 9, np.inf],\n",
    "    [np.inf, np.inf, np.inf, 0, np.inf, 10],\n",
    "    [np.inf, np.inf, np.inf, 6, 0, 10],\n",
    "    [np.inf, np.inf, np.inf, np.inf, np.inf, 0]\n",
    "])"
   ]
  },
  {
   "cell_type": "code",
   "execution_count": 42,
   "metadata": {
    "collapsed": true
   },
   "outputs": [],
   "source": [
    "def max_flow(D, start, end):\n",
    "    D = D.copy()\n",
    "    max_flow = 0\n",
    "    \n",
    "    while True:\n",
    "        # Augment the flow while there is path from source to sink\n",
    "        path, path_len = shortest_path(D, start, end)\n",
    "        if path_len == 0:\n",
    "            break\n",
    "            \n",
    "        # Find minimum residual capacity of the edges along the path\n",
    "        ordered = sorted([(e, length(D, e)) for e in get_edges(path)], key=lambda x: x[1])\n",
    "        _, min_len = ordered[0]\n",
    "        \n",
    "        # Add path flow to overall flow\n",
    "        max_flow += min_len\n",
    "        \n",
    "        # Update residual capacities of the edges and reverse edges along the path\n",
    "        for (n1, n2), _ in ordered:\n",
    "            D[n1, n2] -= min_len\n",
    "            if D[n1, n2] == 0:\n",
    "                D[n1, n2] = np.inf\n",
    "            if D[n2, n1] == np.inf:\n",
    "                D[n2, n1] = 0\n",
    "            D[n2, n1] += min_len\n",
    "    return D, max_flow"
   ]
  },
  {
   "cell_type": "code",
   "execution_count": 43,
   "metadata": {},
   "outputs": [
    {
     "data": {
      "text/plain": [
       "(array([[  0.,  inf,   1.,  inf,  inf,  inf],\n",
       "        [ 10.,   0.,   2.,  inf,   2.,  inf],\n",
       "        [  9.,  inf,   0.,  inf,  inf,  inf],\n",
       "        [ inf,   4.,  inf,   0.,   5.,   1.],\n",
       "        [ inf,   6.,   9.,   1.,   0.,  inf],\n",
       "        [ inf,  inf,  inf,   9.,  10.,   0.]]), 19.0)"
      ]
     },
     "execution_count": 43,
     "metadata": {},
     "output_type": "execute_result"
    }
   ],
   "source": [
    "max_flow(D, 0, 5)"
   ]
  },
  {
   "cell_type": "markdown",
   "metadata": {},
   "source": [
    "# Packaging Logistics\n",
    "Packaging has a significant impact on the efficiency and effectiveness of retail supply chains, where improvements can be achieved through the adaptation and development of the concept of packaging logistics."
   ]
  },
  {
   "cell_type": "markdown",
   "metadata": {},
   "source": [
    "## Bin Packing\n",
    "Matching objects with bins and reduce the number of bins.\n",
    "<img src=\"https://ars.els-cdn.com/content/image/1-s2.0-S0925527313001837-gr1.jpg\" width=\"400px\">"
   ]
  },
  {
   "cell_type": "code",
   "execution_count": 44,
   "metadata": {
    "collapsed": true
   },
   "outputs": [],
   "source": [
    "def bin_packing(capacity, sizes, priority):\n",
    "    sizes = sizes.copy()\n",
    "    bins = []\n",
    "    while len(sizes) > 0:\n",
    "        size = sizes[0]\n",
    "        if len(bins) == 0 or sum(bins[-1]) + size > capacity:\n",
    "            bins.append([])\n",
    "            continue\n",
    "        # Next fit: add to the last bin or open new bin\n",
    "        if priority == 'next':\n",
    "            bins[-1].append(size)\n",
    "            sizes.remove(size)\n",
    "        elif priority == 'best' or priority == 'worst':\n",
    "            bins[-1].append(size)\n",
    "            sizes.remove(size)\n",
    "            while len(sizes) > 0:\n",
    "                candidates = []\n",
    "                for size2 in sizes:\n",
    "                    if sum(bins[-1]) + size2 <= capacity:\n",
    "                        candidates.append(size2)\n",
    "                if len(candidates) > 0:\n",
    "                    if priority == 'best':\n",
    "                        # Best fit: add to a bin, so that remaining capacity is minimal\n",
    "                        # Optimal with descending order\n",
    "                        best = max(candidates)\n",
    "                        bins[-1].append(best)\n",
    "                        sizes.remove(best)\n",
    "                    elif priority == 'worst':\n",
    "                        # Worst fit: add to a bin, so that remaining capacity is maximal\n",
    "                        worst = min(candidates)\n",
    "                        bins[-1].append(worst)\n",
    "                        sizes.remove(worst)\n",
    "                else:\n",
    "                    break\n",
    "    return bins"
   ]
  },
  {
   "cell_type": "code",
   "execution_count": 45,
   "metadata": {},
   "outputs": [
    {
     "data": {
      "text/plain": [
       "[[7, 5], [6, 5, 1], [2, 9], [4, 8], [7, 4], [2, 4, 3, 2]]"
      ]
     },
     "execution_count": 45,
     "metadata": {},
     "output_type": "execute_result"
    }
   ],
   "source": [
    "bin_packing(12, [7, 6, 2, 4, 9, 5, 1, 7, 4, 2, 5, 8, 3, 4, 2], 'best')"
   ]
  },
  {
   "cell_type": "code",
   "execution_count": null,
   "metadata": {
    "collapsed": true
   },
   "outputs": [],
   "source": []
  }
 ],
 "metadata": {
  "anaconda-cloud": {},
  "kernelspec": {
   "display_name": "Python [default]",
   "language": "python",
   "name": "python3"
  },
  "language_info": {
   "codemirror_mode": {
    "name": "ipython",
    "version": 3
   },
   "file_extension": ".py",
   "mimetype": "text/x-python",
   "name": "python",
   "nbconvert_exporter": "python",
   "pygments_lexer": "ipython3",
   "version": "3.6.1"
  },
  "toc": {
   "nav_menu": {},
   "number_sections": true,
   "sideBar": true,
   "skip_h1_title": false,
   "toc_cell": false,
   "toc_position": {},
   "toc_section_display": "block",
   "toc_window_display": false
  },
  "varInspector": {
   "cols": {
    "lenName": 16,
    "lenType": 16,
    "lenVar": 40
   },
   "kernels_config": {
    "python": {
     "delete_cmd_postfix": "",
     "delete_cmd_prefix": "del ",
     "library": "var_list.py",
     "varRefreshCmd": "print(var_dic_list())"
    },
    "r": {
     "delete_cmd_postfix": ") ",
     "delete_cmd_prefix": "rm(",
     "library": "var_list.r",
     "varRefreshCmd": "cat(var_dic_list()) "
    }
   },
   "types_to_exclude": [
    "module",
    "function",
    "builtin_function_or_method",
    "instance",
    "_Feature"
   ],
   "window_display": false
  }
 },
 "nbformat": 4,
 "nbformat_minor": 2
}
